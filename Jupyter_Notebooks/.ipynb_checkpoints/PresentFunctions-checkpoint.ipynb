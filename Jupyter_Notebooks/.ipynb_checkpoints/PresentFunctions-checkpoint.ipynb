{
 "cells": [
  {
   "cell_type": "markdown",
   "metadata": {},
   "source": [
    "# Functions in Python\n",
    "Python handles functions much like MATLAB. Python function definitions allow you to specify input and output arguments. You can save functions to a file and call them from other scripts, notebooks, or functions that you write. \n",
    "To define a function in Python use the following syntax:\n",
    "\n",
    "``` python\n",
    "def func1(input1, input2,...):\n",
    "    indented code statements\n",
    "    return output(s)\n",
    "```\n",
    "Keep in mind, indentation is **everything in Python**. The function ends whenever the indentation ends. \n",
    "\n",
    "Several aspects of implementing functions in Python are different from MATLAB. Unlike MATLAB, you can have as many function definitions in one file as you like. You can then *import* this file just as you would import a package/module, such as `numpy` or `matplotlib`. For example, `fsatellite.py` is a file that contains several functions around our satellite problems. We can load it: "
   ]
  },
  {
   "cell_type": "markdown",
   "metadata": {},
   "source": [
    "dkafjldfjlskjflk"
   ]
  },
  {
   "cell_type": "code",
   "execution_count": 1,
   "metadata": {},
   "outputs": [],
   "source": [
    "import fsatellite as fst"
   ]
  },
  {
   "cell_type": "markdown",
   "metadata": {},
   "source": [
    "I should note here that this is not the only way to load functions from a file in Python. You can also load specific functions:\n",
    "```python\n",
    "from fsatellite import satellite\n",
    "```\n",
    "after which you may call the function like any other `satellite(arg1,...)`\n",
    "You can load all functions from a file\n",
    "```python\n",
    "from fsatellite import *\n",
    "```\n",
    "after which you may again call any function in `fsatellite` like any other function `alt(h)`. It should be noted, however, that loading files like this will increase the chances of *overloading* functions (where two functions have the same name and then order of precedence must be considered).\n",
    "\n",
    "We can now use any functions defined with within this file like"
   ]
  },
  {
   "cell_type": "code",
   "execution_count": 4,
   "metadata": {},
   "outputs": [
    {
     "name": "stdout",
     "output_type": "stream",
     "text": [
      "10396.111839497076\n",
      "4.877355127489123\n"
     ]
    },
    {
     "data": {
      "text/plain": [
       "(10396.111839497076, 4.877355127489123)"
      ]
     },
     "execution_count": 4,
     "metadata": {},
     "output_type": "execute_result"
    },
    {
     "data": {
      "image/png": "[encoded data removed]",
      "text/plain": [
       "<Figure size 432x288 with 1 Axes>"
      ]
     },
     "metadata": {
      "needs_background": "light"
     },
     "output_type": "display_data"
    },
    {
     "data": {
      "image/png": "[encoded data removed]",
      "text/plain": [
       "<Figure size 432x288 with 1 Axes>"
      ]
     },
     "metadata": {
      "needs_background": "light"
     },
     "output_type": "display_data"
    }
   ],
   "source": [
    "h,v = fst.satellite(6)\n",
    "print(h)\n",
    "print(v)\n",
    "fst.satellite(6,1, \"hr\")"
   ]
  },
  {
   "cell_type": "markdown",
   "metadata": {},
   "source": [
    "We can even use any function defined within the file. Let's open the file and print the contents,"
   ]
  },
  {
   "cell_type": "code",
   "execution_count": 7,
   "metadata": {},
   "outputs": [
    {
     "name": "stdout",
     "output_type": "stream",
     "text": [
      "# -*- coding: utf-8 -*-\n",
      "\"\"\"\n",
      "This file contains functions related to calculating orbital quantities of satellites\n",
      "\"\"\"\n",
      "import numpy as np\n",
      "import matplotlib.pyplot as pyp\n",
      "from colorama import Fore, Back\n",
      "G = 6.67*10**(-11);\n",
      "M = 5.98*10**(24);\n",
      "R = 6.371*10**(6);\n",
      "\n",
      "\n",
      "def satellite(T,grph = 0,un='hr'):\n",
      "    if un==\"hr\" or un==\"hour\":\n",
      "        t = 3600*T;\n",
      "    elif un == \"day\" or un == \"dy\":\n",
      "        t = 24*3600*T;\n",
      "    elif un == \"min\" or un== \"m\":\n",
      "        t = 60*T;\n",
      "    elif un == \"s\" or un==\"sec\":\n",
      "        t=T;\n",
      "    else:\n",
      "        print(Fore.RED + \"Error: need numerical input with a units of sec, min, hour or day\")\n",
      "        \n",
      "    mtokm = lambda x: x/1000; #lambda functions are python's anonymous functions\n",
      "\n",
      "    h= alt(t);\n",
      "    v =orbvel(h);\n",
      "    V = mtokm(v);\n",
      "    H = mtokm(h);\n",
      "    \n",
      "    T = 3600*np.arange(1.5,60)\n",
      "    h = alt(T);\n",
      "    v = mtokm(orbvel(h));\n",
      "    h = mtokm(h);\n",
      "    if grph:\n",
      "        fig(T,h);\n",
      "        fig(v,h,'orbital velocity (km/s)');\n",
      "    return H, V\n",
      "\n",
      "def alt(t):\n",
      "     h = (G*M*t**2/(4*np.pi**2))**(1/3) - R;\n",
      "     return h\n",
      "\n",
      "def orbvel(h):\n",
      "    v = np.sqrt(G*M/(h+R));\n",
      "    return v\n",
      "\n",
      "def fig(x,y,xlab='period of orbit (hours)',ylab='altitude (km)'):\n",
      "    pyp.figure()\n",
      "    pyp.plot(x,y)\n",
      "    pyp.xlabel(xlab)\n",
      "    pyp.ylabel(ylab)\n",
      "    \n",
      "\n"
     ]
    }
   ],
   "source": [
    "f = open('fsatellite.py','r')\n",
    "print(f.read())\n",
    "f.close()"
   ]
  },
  {
   "cell_type": "code",
   "execution_count": 5,
   "metadata": {},
   "outputs": [
    {
     "data": {
      "text/plain": [
       "7881.559781023097"
      ]
     },
     "execution_count": 5,
     "metadata": {},
     "output_type": "execute_result"
    }
   ],
   "source": [
    "fst.orbvel(50000)"
   ]
  },
  {
   "cell_type": "code",
   "execution_count": 6,
   "metadata": {},
   "outputs": [
    {
     "ename": "AttributeError",
     "evalue": "module 'fsatellite' has no attribute 'mtokm'",
     "output_type": "error",
     "traceback": [
      "\u001b[1;31m---------------------------------------------------------------------------\u001b[0m",
      "\u001b[1;31mAttributeError\u001b[0m                            Traceback (most recent call last)",
      "\u001b[1;32m<ipython-input-6-ec203aa2a6f3>\u001b[0m in \u001b[0;36m<module>\u001b[1;34m\u001b[0m\n\u001b[1;32m----> 1\u001b[1;33m \u001b[0mfst\u001b[0m\u001b[1;33m.\u001b[0m\u001b[0mmtokm\u001b[0m\u001b[1;33m(\u001b[0m\u001b[1;36m9000\u001b[0m\u001b[1;33m)\u001b[0m\u001b[1;33m\u001b[0m\u001b[1;33m\u001b[0m\u001b[0m\n\u001b[0m",
      "\u001b[1;31mAttributeError\u001b[0m: module 'fsatellite' has no attribute 'mtokm'"
     ]
    }
   ],
   "source": [
    "fst.mtokm(9000)"
   ]
  },
  {
   "cell_type": "markdown",
   "metadata": {},
   "source": [
    "# Take home messages about Python Functions\n",
    "There are several things that you should notice about the function file above:\n",
    "* Everything that happens above the first function definition is global, (any function can use it). This is useful when many separate functions need similar data.\n",
    "* Functions can call other functions within the same file. The ordering of the functions doesn't matter.\n",
    "*  `lambda` functions are Python's 'anonymous functions', functions that are defined in 1 line. The syntax is used in `fsatellite.py` to define `mtokm`\n",
    "```python\n",
    "mtokm = lambda x: x/1000;\n",
    "```\n",
    "\n",
    "* Default arguments are defined in the function definition using `=` sign (not an assignment operator unless there is no input argurment in its place). You may set default values for any of your arguments, but cannot skip arguments in your functions calls.\n",
    "```python\n",
    "def satellite(T,grph = 0,un='hr'):\n",
    "```\n",
    "That is you cannot call satellite using a call of `satellite(3.5, , \"day\")` and hope that the default argument for `grph` will be used (because it won't). "
   ]
  },
  {
   "cell_type": "code",
   "execution_count": null,
   "metadata": {},
   "outputs": [],
   "source": []
  },
  {
   "cell_type": "code",
   "execution_count": null,
   "metadata": {},
   "outputs": [],
   "source": []
  }
 ],
 "metadata": {
  "kernelspec": {
   "display_name": "Python 3",
   "language": "python",
   "name": "python3"
  },
  "language_info": {
   "codemirror_mode": {
    "name": "ipython",
    "version": 3
   },
   "file_extension": ".py",
   "mimetype": "text/x-python",
   "name": "python",
   "nbconvert_exporter": "python",
   "pygments_lexer": "ipython3",
   "version": "3.7.4"
  }
 },
 "nbformat": 4,
 "nbformat_minor": 2
}
