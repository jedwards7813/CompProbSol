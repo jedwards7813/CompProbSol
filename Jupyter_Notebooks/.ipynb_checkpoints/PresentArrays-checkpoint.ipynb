{
 "cells": [
  {
   "cell_type": "markdown",
   "metadata": {},
   "source": [
    "# Arrays in Python\n",
    "## Lists\n",
    "Lists are the most general array in python. Lists can contain a mix of any data type. You can often get away with using mathematical operations on numbers in mixed arrays"
   ]
  },
  {
   "cell_type": "code",
   "execution_count": 6,
   "metadata": {},
   "outputs": [
    {
     "name": "stdout",
     "output_type": "stream",
     "text": [
      "9\n"
     ]
    },
    {
     "data": {
      "text/plain": [
       "81"
      ]
     },
     "execution_count": 6,
     "metadata": {},
     "output_type": "execute_result"
    }
   ],
   "source": [
    "l = [9, 'monkey', 2+3j]\n",
    "print(l[0])\n",
    "l[0]*l[0]"
   ]
  },
  {
   "cell_type": "markdown",
   "metadata": {},
   "source": [
    "Note that indexing starts at 0 **(unlike in MATLAB)**. Some useful functions with lists in Python"
   ]
  },
  {
   "cell_type": "code",
   "execution_count": 8,
   "metadata": {},
   "outputs": [
    {
     "name": "stdout",
     "output_type": "stream",
     "text": [
      "[(2+3j), 'addon', 'addon']\n",
      "[(2+3j)]\n"
     ]
    }
   ],
   "source": [
    "l.append('addon')\n",
    "print(l)\n",
    "l.pop(1)\n",
    "l.remove('addon')\n",
    "print(l)"
   ]
  },
  {
   "cell_type": "markdown",
   "metadata": {},
   "source": [
    "## Arrays\n",
    "Arrays in Python are:\n",
    "1. fixed in size\n",
    "1. all elements must be of the same type\n",
    "1. multi-dimensional\n",
    "\n",
    "The *array* command is stored in the package _numpy_. Arrays can always be used in arithmetic operations, and they store data more efficiently than lists, so when storing lots of data, use arrays."
   ]
  },
  {
   "cell_type": "code",
   "execution_count": 23,
   "metadata": {},
   "outputs": [
    {
     "name": "stdout",
     "output_type": "stream",
     "text": [
      "[[11 12 13 14 15]\n",
      " [16 17 18 19 20]\n",
      " [21 22 23 24 25]\n",
      " [26 27 28 29 30]\n",
      " [31 32 33 34 35]]\n"
     ]
    }
   ],
   "source": [
    "from numpy import array\n",
    "a = array([[11,12,13,14,15],[16,17,18,19,20],[21,22,23,24,25],[26,27,28,29,30],[31,32,33,34,35]])\n",
    "print(a)"
   ]
  },
  {
   "cell_type": "markdown",
   "metadata": {},
   "source": [
    "![python indexing](figure/pythonarray.png)"
   ]
  },
  {
   "cell_type": "markdown",
   "metadata": {},
   "source": [
    "You can slice lists and arrays with a colon **:**\n",
    "\n",
    "- a[m:n] = subset of *a* starting at index *m* up to but not including *n*\n",
    "- a[m:n,p:q] = subset of a 2-D array *a* starting in row *m* and column *p* up to but not including row *n* and column *q* \n",
    "- a[m:n:step,p:q:step]  = subset of array *a* choosing an element at each step\n",
    "\n",
    "Omitting numbers before colon means start at the beginning and after the colon means go to end"
   ]
  },
  {
   "cell_type": "code",
   "execution_count": 26,
   "metadata": {},
   "outputs": [
    {
     "data": {
      "text/plain": [
       "array([[11, 12, 13, 14, 15],\n",
       "       [16, 17, 18, 19, 20],\n",
       "       [21, 22, 23, 24, 25]])"
      ]
     },
     "execution_count": 26,
     "metadata": {},
     "output_type": "execute_result"
    }
   ],
   "source": [
    "a[0:3]"
   ]
  },
  {
   "cell_type": "code",
   "execution_count": 29,
   "metadata": {},
   "outputs": [
    {
     "data": {
      "text/plain": [
       "array([19, 24])"
      ]
     },
     "execution_count": 29,
     "metadata": {},
     "output_type": "execute_result"
    }
   ],
   "source": [
    "a[1:3,3]"
   ]
  },
  {
   "cell_type": "code",
   "execution_count": 30,
   "metadata": {},
   "outputs": [
    {
     "data": {
      "text/plain": [
       "array([[11, 13, 15],\n",
       "       [21, 23, 25],\n",
       "       [31, 33, 35]])"
      ]
     },
     "execution_count": 30,
     "metadata": {},
     "output_type": "execute_result"
    }
   ],
   "source": [
    "a[::2,::2]"
   ]
  },
  {
   "cell_type": "markdown",
   "metadata": {},
   "source": [
    "## Useful Functions\n",
    "Some functions in *numpy* help creating and importing arrays. You may also turn lists into arrays."
   ]
  },
  {
   "cell_type": "code",
   "execution_count": 2,
   "metadata": {},
   "outputs": [
    {
     "name": "stdout",
     "output_type": "stream",
     "text": [
      "[[0 0 0]\n",
      " [0 0 0]\n",
      " [0 0 0]]\n",
      "[[1. 1. 1.]\n",
      " [1. 1. 1.]\n",
      " [1. 1. 1.]]\n"
     ]
    }
   ],
   "source": [
    "import numpy as np\n",
    "A=np.zeros([3,3],int)\n",
    "B=np.ones([3,3],float)\n",
    "print(A)\n",
    "print(B)"
   ]
  },
  {
   "cell_type": "code",
   "execution_count": 11,
   "metadata": {},
   "outputs": [
    {
     "name": "stdout",
     "output_type": "stream",
     "text": [
      "[3, 5, 1, 3, 5, 6]\n"
     ]
    }
   ],
   "source": [
    "list1 = [3,5,1,3,5,6]\n",
    "print(list1)"
   ]
  },
  {
   "cell_type": "code",
   "execution_count": 13,
   "metadata": {},
   "outputs": [
    {
     "data": {
      "text/plain": [
       "array([3., 5., 1., 3., 5., 6.])"
      ]
     },
     "execution_count": 13,
     "metadata": {},
     "output_type": "execute_result"
    }
   ],
   "source": [
    "np.array(list1,float)"
   ]
  },
  {
   "cell_type": "markdown",
   "metadata": {},
   "source": [
    "Wait a minute! Are you saying I can only get 1D arrays from lists? Well, no. Let's use **lists of lists**"
   ]
  },
  {
   "cell_type": "code",
   "execution_count": 16,
   "metadata": {},
   "outputs": [
    {
     "data": {
      "text/plain": [
       "9"
      ]
     },
     "execution_count": 16,
     "metadata": {},
     "output_type": "execute_result"
    }
   ],
   "source": [
    "list2 = [[1,4,3],[3,4,9],[-1,4,2]]\n",
    "list2[1][2]"
   ]
  },
  {
   "cell_type": "code",
   "execution_count": 21,
   "metadata": {},
   "outputs": [
    {
     "name": "stdout",
     "output_type": "stream",
     "text": [
      "[[ 1.  4.  3.]\n",
      " [ 3.  4.  9.]\n",
      " [-1.  4.  2.]]\n"
     ]
    }
   ],
   "source": [
    "newarray = np.array(list2,float)\n",
    "print(newarray)"
   ]
  },
  {
   "cell_type": "markdown",
   "metadata": {},
   "source": [
    "You can load data from files **fairly** easily with *loadtxt*. Documentation on *dtype* and the notation used below is available at https://docs.scipy.org/doc/numpy-1.15.0/reference/generated/numpy.dtype.html"
   ]
  },
  {
   "cell_type": "code",
   "execution_count": 18,
   "metadata": {},
   "outputs": [],
   "source": [
    "test=np.loadtxt(\"data/HeatCapCoef.txt\", dtype={'names': ('gas','HC', 'error1', 'error2','error3'),\n",
    "...                      'formats': ('U5', 'f4', 'f4','f4','f4')})"
   ]
  },
  {
   "cell_type": "code",
   "execution_count": 17,
   "metadata": {},
   "outputs": [
    {
     "name": "stdout",
     "output_type": "stream",
     "text": [
      "[29.088 32.218]\n"
     ]
    }
   ],
   "source": [
    "id = test['HC']>29\n",
    "tp=test['HC'][id]\n",
    "print(tp)"
   ]
  },
  {
   "cell_type": "code",
   "execution_count": 15,
   "metadata": {},
   "outputs": [
    {
     "data": {
      "text/plain": [
       "array([28.883, 25.46 , 29.088, 28.142, 22.243, 32.218, 24.619, 19.875],\n",
       "      dtype=float32)"
      ]
     },
     "execution_count": 15,
     "metadata": {},
     "output_type": "execute_result"
    }
   ],
   "source": [
    "test['HC']\n"
   ]
  },
  {
   "cell_type": "code",
   "execution_count": 19,
   "metadata": {},
   "outputs": [
    {
     "data": {
      "text/plain": [
       "array([('N2', 28.883, -0.00157,  8.080e-06, -2.8710e-09),\n",
       "       ('O2', 25.46 ,  0.01519, -7.150e-06,  1.3110e-09),\n",
       "       ('H2', 29.088, -0.00192,  4.000e-06, -8.7000e-10),\n",
       "       ('CO', 28.142,  0.00167,  5.370e-06, -2.2210e-09),\n",
       "       ('CO2', 22.243,  0.05977, -3.499e-05,  7.4640e-09),\n",
       "       ('H2O', 32.218,  0.00192,  1.055e-05, -3.5930e-09),\n",
       "       ('NH3', 24.619,  0.0375 , -1.380e-06,  0.0000e+00),\n",
       "       ('CH4', 19.875,  0.05021,  1.268e-05, -1.1004e-08)],\n",
       "      dtype=[('gas', '<U5'), ('HC', '<f4'), ('error1', '<f4'), ('error2', '<f4'), ('error3', '<f4')])"
      ]
     },
     "execution_count": 19,
     "metadata": {},
     "output_type": "execute_result"
    }
   ],
   "source": [
    "test"
   ]
  }
 ],
 "metadata": {
  "kernelspec": {
   "display_name": "Python 3",
   "language": "python",
   "name": "python3"
  },
  "language_info": {
   "codemirror_mode": {
    "name": "ipython",
    "version": 3
   },
   "file_extension": ".py",
   "mimetype": "text/x-python",
   "name": "python",
   "nbconvert_exporter": "python",
   "pygments_lexer": "ipython3",
   "version": "3.7.4"
  }
 },
 "nbformat": 4,
 "nbformat_minor": 2
}
