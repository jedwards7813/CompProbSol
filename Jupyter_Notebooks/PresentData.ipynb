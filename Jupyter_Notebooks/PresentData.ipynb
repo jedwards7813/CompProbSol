{
 "cells": [
  {
   "cell_type": "markdown",
   "metadata": {},
   "source": [
    "# Data Types\n",
    "The basic data types in python include types that contain numbers, text, sequences, and boolean. Many of these data types have *methods* associated with them. Methods are functions associated with certain classes, like data types. Date types often use methods with the syntax\n",
    "```python\n",
    "string.method(<input arguments>)\n",
    "```\n",
    "where `method` alters `string` directly\n",
    "## Numbers\n",
    "Python has three data types for numbers"
   ]
  },
  {
   "cell_type": "code",
   "execution_count": null,
   "metadata": {},
   "outputs": [],
   "source": [
    "x = 137\n",
    "y = 1.618\n",
    "z = 3+5j\n",
    "print(type(x))\n",
    "print(type(y))\n",
    "print(type(z))"
   ]
  },
  {
   "cell_type": "markdown",
   "metadata": {},
   "source": [
    "## Text\n",
    "`str` is the only data type used to contain text in Python"
   ]
  },
  {
   "cell_type": "code",
   "execution_count": null,
   "metadata": {},
   "outputs": [],
   "source": [
    "text1 = \"There is no difference between characters and strings. \"\n",
    "text2 = 'Single or double quotes give you the same thing'\n",
    "print(type(text1))\n",
    "print(type(text2))\n",
    "print(text1[9])\n",
    "print(text2[0:6])\n",
    "print(text1+text2)"
   ]
  },
  {
   "cell_type": "markdown",
   "metadata": {},
   "source": [
    "`str` is quite the flexible data type in Python. Below are some examples of ways to use strings. Many more methods can be found at [string methods](https://www.programiz.com/python-programming/methods/string/join)"
   ]
  },
  {
   "cell_type": "code",
   "execution_count": 24,
   "metadata": {},
   "outputs": [
    {
     "name": "stdout",
     "output_type": "stream",
     "text": [
      "9\n",
      "11\n",
      "181\n",
      "w\n"
     ]
    },
    {
     "data": {
      "text/plain": [
       "'Four score and seven years ago our fathers brought forth on this continent, a new nation, conceived in Liberty, and dedicated to the proposition that all men are created equal. Now THE FAMILy are engaged in a great civil war, testing whether that nation, or any nation so conceived and dedicated, can long endure. We are met on a great battle-field of that war. We have come to dedicate a portion of that field, as a final resting place for those who here gave their lives that that nation might live. It is altogether fitting and proper that THE FAMILy should do this. But, in a larger sense, THE FAMILy can not dedicate -- THE FAMILy can not consecrate -- THE FAMILy can not hallow -- this ground. The brave men, living and dead, who struggled here, have consecrated it, far above our poor poTHE FAMILyr to add or detract. The world will little note, nor long remember what THE FAMILy say here, but it can never forget what they did here. It is for us the living, rather, to be dedicated here to the unfinished work which they who fought here have thus far so nobly advanced. It is rather for us to be here dedicated to the great task remaining before us -- that from these honored dead THE FAMILy take increased devotion to that cause for which they gave the last full measure of devotion -- that THE FAMILy here highly resolve that these dead shall not have died in vain -- that this nation, under God, shall have a new birth of freedom -- and that government of the people, by the people, for the people, shall not perish from the earth.'"
      ]
     },
     "execution_count": 24,
     "metadata": {},
     "output_type": "execute_result"
    }
   ],
   "source": [
    "gettysburg = \"Four score and seven years ago our fathers brought forth on this continent, a new nation, conceived in Liberty, and dedicated to the proposition that all men are created equal. Now we are engaged in a great civil war, testing whether that nation, or any nation so conceived and dedicated, can long endure. We are met on a great battle-field of that war. We have come to dedicate a portion of that field, as a final resting place for those who here gave their lives that that nation might live. It is altogether fitting and proper that we should do this. But, in a larger sense, we can not dedicate -- we can not consecrate -- we can not hallow -- this ground. The brave men, living and dead, who struggled here, have consecrated it, far above our poor power to add or detract. The world will little note, nor long remember what we say here, but it can never forget what they did here. It is for us the living, rather, to be dedicated here to the unfinished work which they who fought here have thus far so nobly advanced. It is rather for us to be here dedicated to the great task remaining before us -- that from these honored dead we take increased devotion to that cause for which they gave the last full measure of devotion -- that we here highly resolve that these dead shall not have died in vain -- that this nation, under God, shall have a new birth of freedom -- and that government of the people, by the people, for the people, shall not perish from the earth.\"\n",
    "substr= \"we\"\n",
    "print(gettysburg.count(substr))\n",
    "print(gettysburg.casefold().count(substr))\n",
    "print(gettysburg.find(substr))\n",
    "print(gettysburg[181])\n",
    "gettysburg.replace(substr,\"THE FAMILy\")"
   ]
  },
  {
   "cell_type": "markdown",
   "metadata": {},
   "source": [
    "## Sequences\n",
    "Sequences in Python include `lists`, `tuples`, and `ranges`. Lists are a simple way of storing related data, much like arrays or tables in MATLAB. Tuples act much like lists, but are immutable, meaning once created they *cannot* be modified. Ranges refer to the built-in function `range` (and its many similar cousins: `arange`, `xrange`, etc). `range` is used to create a range of values."
   ]
  },
  {
   "cell_type": "code",
   "execution_count": 26,
   "metadata": {},
   "outputs": [],
   "source": [
    "list1=['photon', 'W+ boson', 'W- boson', 'Z boson', 'gluon', 'graviton'];"
   ]
  },
  {
   "cell_type": "code",
   "execution_count": 27,
   "metadata": {},
   "outputs": [
    {
     "name": "stdout",
     "output_type": "stream",
     "text": [
      "graviton\n"
     ]
    }
   ],
   "source": [
    "notreal = list1.pop()\n",
    "print(notreal)"
   ]
  },
  {
   "cell_type": "code",
   "execution_count": 28,
   "metadata": {},
   "outputs": [
    {
     "data": {
      "text/plain": [
       "['photon', 'W+ boson', 'W- boson', 'Z boson', 'gluon']"
      ]
     },
     "execution_count": 28,
     "metadata": {},
     "output_type": "execute_result"
    }
   ],
   "source": [
    "list1"
   ]
  },
  {
   "cell_type": "code",
   "execution_count": 29,
   "metadata": {},
   "outputs": [
    {
     "name": "stdout",
     "output_type": "stream",
     "text": [
      "None\n"
     ]
    }
   ],
   "source": [
    "x = list1.append(notreal)\n",
    "print(x)"
   ]
  },
  {
   "cell_type": "code",
   "execution_count": null,
   "metadata": {},
   "outputs": [],
   "source": [
    "list1"
   ]
  },
  {
   "cell_type": "code",
   "execution_count": 30,
   "metadata": {},
   "outputs": [],
   "source": [
    "tuple1 = ('photon', 'W+ boson', 'W- boson', 'Z boson', 'gluon', 'graviton')"
   ]
  },
  {
   "cell_type": "code",
   "execution_count": 31,
   "metadata": {},
   "outputs": [
    {
     "data": {
      "text/plain": [
       "('Z boson', 'gluon')"
      ]
     },
     "execution_count": 31,
     "metadata": {},
     "output_type": "execute_result"
    }
   ],
   "source": [
    "tuple1[3:5]"
   ]
  },
  {
   "cell_type": "code",
   "execution_count": 32,
   "metadata": {},
   "outputs": [
    {
     "ename": "TypeError",
     "evalue": "'tuple' object does not support item assignment",
     "output_type": "error",
     "traceback": [
      "\u001b[1;31m---------------------------------------------------------------------------\u001b[0m",
      "\u001b[1;31mTypeError\u001b[0m                                 Traceback (most recent call last)",
      "\u001b[1;32m<ipython-input-32-585444639a25>\u001b[0m in \u001b[0;36m<module>\u001b[1;34m\u001b[0m\n\u001b[1;32m----> 1\u001b[1;33m \u001b[0mtuple1\u001b[0m\u001b[1;33m[\u001b[0m\u001b[1;36m3\u001b[0m\u001b[1;33m]\u001b[0m\u001b[1;33m=\u001b[0m\u001b[1;34m'gamma'\u001b[0m\u001b[1;33m\u001b[0m\u001b[1;33m\u001b[0m\u001b[0m\n\u001b[0m",
      "\u001b[1;31mTypeError\u001b[0m: 'tuple' object does not support item assignment"
     ]
    }
   ],
   "source": [
    "tuple1[3]='gamma'"
   ]
  },
  {
   "cell_type": "code",
   "execution_count": null,
   "metadata": {},
   "outputs": [],
   "source": [
    "(em,weak1,weak2,weak3,strong,gravity)=tuple1\n",
    "weak2"
   ]
  },
  {
   "cell_type": "markdown",
   "metadata": {},
   "source": [
    "you often need to switch the values of two variables, tuples gives you an easy way:"
   ]
  },
  {
   "cell_type": "code",
   "execution_count": 33,
   "metadata": {},
   "outputs": [
    {
     "name": "stdout",
     "output_type": "stream",
     "text": [
      "3.1415\n",
      "switch\n"
     ]
    }
   ],
   "source": [
    "a='switch'\n",
    "b=3.1415\n",
    "(a,b)=(b,a)\n",
    "print(a)\n",
    "print(b)"
   ]
  },
  {
   "cell_type": "code",
   "execution_count": 34,
   "metadata": {},
   "outputs": [
    {
     "name": "stdout",
     "output_type": "stream",
     "text": [
      "range(0, 6)\n",
      "range(1, 19)\n",
      "range(1, 44, 4)\n",
      "<class 'range'>\n"
     ]
    }
   ],
   "source": [
    "r1=range(6)\n",
    "r2=range(1,19)\n",
    "r3=range(1,44,4)\n",
    "print(r1)\n",
    "print(r2)\n",
    "print(r3)\n",
    "print(type(r3))"
   ]
  },
  {
   "cell_type": "code",
   "execution_count": 35,
   "metadata": {},
   "outputs": [
    {
     "name": "stdout",
     "output_type": "stream",
     "text": [
      "1\n",
      "5\n",
      "9\n",
      "13\n",
      "17\n",
      "21\n",
      "25\n",
      "29\n",
      "33\n",
      "37\n",
      "41\n"
     ]
    }
   ],
   "source": [
    "for k in r3:\n",
    "    print(k)"
   ]
  },
  {
   "cell_type": "markdown",
   "metadata": {},
   "source": [
    "# Data Structures in Python\n",
    "The basic data container in Python is a list. A `list` can hold a variety of data types. Once a `list` exists, it can be appended, have elements deleted, and be transformed into `arrays` or `tuples`. Of course, there are more sophisicated ways of storing/accessing/processing data in Python. Let's look at two: `dictionaries` and `dataframes`. Content below is generously sampled from http://openbookproject.net/thinkcs/python/english3e/dictionaries.html."
   ]
  },
  {
   "cell_type": "markdown",
   "metadata": {},
   "source": [
    "## Dictionaries\n",
    "Dictionaries are lists of values that are indexed by `keys`. In other languages, these dictionaries are often referred to associative arrays because it is a way to associate `keys` with values. Examples of using dictionaries:\n",
    "* English to Spainish dictionary"
   ]
  },
  {
   "cell_type": "code",
   "execution_count": 37,
   "metadata": {},
   "outputs": [
    {
     "data": {
      "text/plain": [
       "'uno'"
      ]
     },
     "execution_count": 37,
     "metadata": {},
     "output_type": "execute_result"
    }
   ],
   "source": [
    "entosp = {\"one\":\"uno\",\"two\":\"dos\",\"three\":\"tres\"}\n",
    "entosp[\"one\"]"
   ]
  },
  {
   "cell_type": "markdown",
   "metadata": {},
   "source": [
    "* Inventory of supplies"
   ]
  },
  {
   "cell_type": "code",
   "execution_count": 39,
   "metadata": {},
   "outputs": [
    {
     "data": {
      "text/plain": [
       "500"
      ]
     },
     "execution_count": 39,
     "metadata": {},
     "output_type": "execute_result"
    }
   ],
   "source": [
    "office = {\"highlighters\":200,\"pencils\":300,\"pens\":500}\n",
    "office['pens']"
   ]
  },
  {
   "cell_type": "markdown",
   "metadata": {},
   "source": [
    "You could construct a dictionary for a encryption code:"
   ]
  },
  {
   "cell_type": "code",
   "execution_count": 40,
   "metadata": {},
   "outputs": [
    {
     "name": "stdout",
     "output_type": "stream",
     "text": [
      "{'a': 1, 'b': 2, 'c': 3, 'd': 4, 'e': 5, 'f': 6, 'g': 7, 'h': 8, 'i': 9, 'j': 10, 'k': 11, 'l': 12, 'm': 13, 'n': 14, 'o': 15, 'p': 16, 'q': 17, 'r': 18, 's': 19, 't': 20, 'u': 21, 'v': 22, 'w': 23, 'x': 24, 'y': 25}\n",
      "7\n"
     ]
    }
   ],
   "source": [
    "codex = { \"a\": 1, \"b\": 2, \"c\": 3, \"d\": 4, \"e\": 5, \"f\": 6, \"g\": 7, \"h\": 8, \"i\": 9, \"j\": 10,\"k\": 11,\"l\": 12,\"m\": 13,\"n\": 14,\n",
    "         \"o\": 15,\"p\": 16,\"q\": 17,\"r\": 18,\"s\": 19,\"t\": 20,\"u\": 21,\"v\": 22,\"w\": 23,\"x\": 24,\"y\": 25}\n",
    "print(codex)\n",
    "print(codex[\"g\"])"
   ]
  },
  {
   "cell_type": "markdown",
   "metadata": {},
   "source": [
    "You can add new keys after the initial definiton:"
   ]
  },
  {
   "cell_type": "code",
   "execution_count": 41,
   "metadata": {},
   "outputs": [
    {
     "name": "stdout",
     "output_type": "stream",
     "text": [
      "{'a': 1, 'b': 2, 'c': 3, 'd': 4, 'e': 5, 'f': 6, 'g': 7, 'h': 8, 'i': 9, 'j': 10, 'k': 11, 'l': 12, 'm': 13, 'n': 14, 'o': 15, 'p': 16, 'q': 17, 'r': 18, 's': 19, 't': 20, 'u': 21, 'v': 22, 'w': 23, 'x': 24, 'y': 25, 'z': 26}\n"
     ]
    }
   ],
   "source": [
    "codex[\"z\"]=26\n",
    "print(codex)"
   ]
  },
  {
   "cell_type": "markdown",
   "metadata": {},
   "source": [
    "You can update the values in the dictionary"
   ]
  },
  {
   "cell_type": "code",
   "execution_count": 42,
   "metadata": {},
   "outputs": [
    {
     "name": "stdout",
     "output_type": "stream",
     "text": [
      "{'highlighters': 200, 'pencils': 300, 'pens': 700}\n"
     ]
    }
   ],
   "source": [
    "office[\"pens\"]+=200\n",
    "print(office)"
   ]
  },
  {
   "cell_type": "markdown",
   "metadata": {},
   "source": [
    "You can find out how many `key:value` pairs a dictionary has"
   ]
  },
  {
   "cell_type": "code",
   "execution_count": 43,
   "metadata": {},
   "outputs": [
    {
     "data": {
      "text/plain": [
       "26"
      ]
     },
     "execution_count": 43,
     "metadata": {},
     "output_type": "execute_result"
    }
   ],
   "source": [
    "len(codex)"
   ]
  },
  {
   "cell_type": "markdown",
   "metadata": {},
   "source": [
    "### Dictionary Methods\n",
    "Dictionaries are a type of class in Python, and classes have functions associated with them called `methods`. Methods allow you to perform operations on and with the dictionary. \n",
    "You can always get the keys and the values from any dictionary, using the methods `keys` and `values`"
   ]
  },
  {
   "cell_type": "code",
   "execution_count": 44,
   "metadata": {},
   "outputs": [
    {
     "name": "stdout",
     "output_type": "stream",
     "text": [
      "dict_values([200, 300, 700])\n",
      "dict_keys(['highlighters', 'pencils', 'pens'])\n",
      "[200, 300, 700]\n"
     ]
    }
   ],
   "source": [
    "print(office.values())\n",
    "print(office.keys())\n",
    "print(list(office.values()))"
   ]
  },
  {
   "cell_type": "markdown",
   "metadata": {},
   "source": [
    "You can run over all the keys to process the values or run through the values explicitly."
   ]
  },
  {
   "cell_type": "code",
   "execution_count": 45,
   "metadata": {},
   "outputs": [
    {
     "name": "stdout",
     "output_type": "stream",
     "text": [
      "Let's count in Spanish\n",
      "uno\n",
      "dos\n",
      "tres\n"
     ]
    }
   ],
   "source": [
    "print(\"Let's count in Spanish\")\n",
    "for k in entosp.keys():   # The order of the k's is not defined\n",
    "   print(entosp[k])\n"
   ]
  },
  {
   "cell_type": "code",
   "execution_count": 47,
   "metadata": {},
   "outputs": [
    {
     "name": "stdout",
     "output_type": "stream",
     "text": [
      "Let's look at the code\n",
      "a oops\n",
      "b oops\n",
      "c oops\n",
      "d oops\n",
      "e oops\n",
      "f oops\n",
      "g oops\n",
      "h oops\n",
      "i oops\n",
      "j oops\n",
      "k oops\n",
      "l oops\n",
      "m oops\n",
      "n oops\n",
      "o oops\n",
      "p oops\n",
      "q oops\n",
      "r oops\n",
      "s oops\n",
      "t oops\n",
      "u oops\n",
      "v oops\n",
      "w oops\n",
      "x oops\n",
      "y oops\n",
      "z oops\n"
     ]
    }
   ],
   "source": [
    "print(\"Let's look at the code\")\n",
    "for k in codex:   # The order of the k's is defined\n",
    "   print(k,\"oops\") # "
   ]
  },
  {
   "cell_type": "code",
   "execution_count": null,
   "metadata": {},
   "outputs": [],
   "source": [
    "print(\"Let's count in Spanish\")\n",
    "for k in entosp.values():   # The order of the k's is not defined\n",
    "   print(k)"
   ]
  },
  {
   "cell_type": "markdown",
   "metadata": {},
   "source": [
    "The method `items` can be used to iterate over the keys and values or to grab both the keys and the values."
   ]
  },
  {
   "cell_type": "code",
   "execution_count": 48,
   "metadata": {},
   "outputs": [
    {
     "data": {
      "text/plain": [
       "[('highlighters', 200), ('pencils', 300), ('pens', 700)]"
      ]
     },
     "execution_count": 48,
     "metadata": {},
     "output_type": "execute_result"
    }
   ],
   "source": [
    "list(office.items())"
   ]
  },
  {
   "cell_type": "code",
   "execution_count": 49,
   "metadata": {},
   "outputs": [
    {
     "name": "stdout",
     "output_type": "stream",
     "text": [
      "a = 1\n",
      "b = 2\n",
      "c = 3\n",
      "d = 4\n",
      "e = 5\n",
      "f = 6\n",
      "g = 7\n",
      "h = 8\n",
      "i = 9\n",
      "j = 10\n",
      "k = 11\n",
      "l = 12\n",
      "m = 13\n",
      "n = 14\n",
      "o = 15\n",
      "p = 16\n",
      "q = 17\n",
      "r = 18\n",
      "s = 19\n",
      "t = 20\n",
      "u = 21\n",
      "v = 22\n",
      "w = 23\n",
      "x = 24\n",
      "y = 25\n",
      "z = 26\n"
     ]
    }
   ],
   "source": [
    "for (k,v) in codex.items():\n",
    "    print(k, \"=\", v)"
   ]
  },
  {
   "cell_type": "markdown",
   "metadata": {},
   "source": [
    "## Pandas: Dataframes"
   ]
  },
  {
   "cell_type": "markdown",
   "metadata": {},
   "source": [
    "Dataframes are two-dimensional data structures that imitate spreadsheets or tables, that is they are indexed with row and column identifiers. `DataFrame` is a class included with the package called `pandas`. Dataframes are useful because you can convert almost any other data container into a dataframe (lists, tuples, dictionaries). What follows was greatly inspired by https://www.tutorialspoint.com/python_pandas/python_pandas_dataframe.htm\n",
    "\n",
    "Let's start by creating a dataframe, using the syntax\n",
    "```python\n",
    "pandas.DataFrame( data, index, columns, dtype, copy)\n",
    "\n",
    "```\n",
    "* `data` can be any data container like arrays, lists, dictionaries\n",
    "* `index` contains the labels for all the rows (default is `np.arrange(n)`)\n",
    "* `columns` contains the labels for the columns (default is also `np.arrange(n)`)\n",
    "* `dtype` is where you can specify the data types of the input values\n",
    "* `copy` is a boolean used to copy any data (I rarely if ever actually use this)\n",
    "\n",
    "Let's create some dataframes and see what happens"
   ]
  },
  {
   "cell_type": "code",
   "execution_count": 50,
   "metadata": {},
   "outputs": [
    {
     "name": "stdout",
     "output_type": "stream",
     "text": [
      "Empty DataFrame\n",
      "Columns: []\n",
      "Index: []\n"
     ]
    }
   ],
   "source": [
    "import pandas as pd\n",
    "# Empty dataframe\n",
    "df = pd.DataFrame()\n",
    "print(df)"
   ]
  },
  {
   "cell_type": "code",
   "execution_count": 54,
   "metadata": {},
   "outputs": [
    {
     "name": "stdout",
     "output_type": "stream",
     "text": [
      "       a\n",
      "one    1\n",
      "two    2\n",
      "three  3\n",
      "four   4\n",
      "five   5\n"
     ]
    }
   ],
   "source": [
    "# DataFrame from list as a data frame\n",
    "lt = [1,2,3,4,5]\n",
    "df1 = pd.DataFrame(lt,index=['one','two','three','four','five'],columns=['a'])\n",
    "print(df1)\n"
   ]
  },
  {
   "cell_type": "code",
   "execution_count": 55,
   "metadata": {},
   "outputs": [
    {
     "name": "stdout",
     "output_type": "stream",
     "text": [
      "         Object  Quantity\n",
      "0  highlighters       200\n",
      "1       pencils       300\n",
      "2          pens       500\n"
     ]
    }
   ],
   "source": [
    "# DataFrame from list of lists\n",
    "data = [['highlighters',200],['pencils',300],['pens',500]]\n",
    "df2 = pd.DataFrame(data,columns=['Object','Quantity'])\n",
    "print(df2)"
   ]
  },
  {
   "cell_type": "code",
   "execution_count": 56,
   "metadata": {},
   "outputs": [
    {
     "name": "stdout",
     "output_type": "stream",
     "text": [
      "       highlighters  pencils  pens\n",
      "one             200      300   700\n",
      "two             200      300   700\n",
      "three           200      300   700\n"
     ]
    }
   ],
   "source": [
    "# Or a DataFrame form a dictionaries - (though be careful, if the dictionaries have different keys, you might not get what you think)\n",
    "df3 = pd.DataFrame(office,entosp)\n",
    "print(df3)"
   ]
  },
  {
   "cell_type": "markdown",
   "metadata": {},
   "source": [
    "### Accessing the DataFrame\n",
    "To access the elements within your dataframe, you can index them using the row and column names as indices or somethings using standard indices conventions from Python"
   ]
  },
  {
   "cell_type": "code",
   "execution_count": 57,
   "metadata": {
    "scrolled": true
   },
   "outputs": [
    {
     "name": "stdout",
     "output_type": "stream",
     "text": [
      "0    200\n",
      "1    300\n",
      "2    500\n",
      "Name: Quantity, dtype: int64 \n",
      "\n",
      "700\n"
     ]
    }
   ],
   "source": [
    "# Printing a column\n",
    "print(df2['Quantity'],\"\\n\")\n",
    "# Printing an element\n",
    "print(df3['pens']['three'])"
   ]
  },
  {
   "cell_type": "markdown",
   "metadata": {},
   "source": [
    "Selecting a row requires that you use another method `loc` or `iloc`"
   ]
  },
  {
   "cell_type": "code",
   "execution_count": null,
   "metadata": {},
   "outputs": [],
   "source": [
    "print(df3.loc['one'],\"\\n\")\n",
    "print(df3.loc['one']['pens'],\"\\n\")\n",
    "print(df3.iloc[1],\"\\n\")\n",
    "print(df3.iloc[1]['pens'],\"\\n\")"
   ]
  },
  {
   "cell_type": "markdown",
   "metadata": {},
   "source": [
    "You can even use the `:` colon notation to get ranges of rows and columns"
   ]
  },
  {
   "cell_type": "code",
   "execution_count": 58,
   "metadata": {},
   "outputs": [
    {
     "name": "stdout",
     "output_type": "stream",
     "text": [
      "         Object  Quantity\n",
      "0  highlighters       200 \n",
      "\n",
      "         Object  Quantity\n",
      "0  highlighters       200\n",
      "1       pencils       300\n"
     ]
    }
   ],
   "source": [
    "print(df2[:1][:2],'\\n')\n",
    "print(df2[:][:2])"
   ]
  }
 ],
 "metadata": {
  "kernelspec": {
   "display_name": "Python 3",
   "language": "python",
   "name": "python3"
  },
  "language_info": {
   "codemirror_mode": {
    "name": "ipython",
    "version": 3
   },
   "file_extension": ".py",
   "mimetype": "text/x-python",
   "name": "python",
   "nbconvert_exporter": "python",
   "pygments_lexer": "ipython3",
   "version": "3.7.4"
  }
 },
 "nbformat": 4,
 "nbformat_minor": 2
}
